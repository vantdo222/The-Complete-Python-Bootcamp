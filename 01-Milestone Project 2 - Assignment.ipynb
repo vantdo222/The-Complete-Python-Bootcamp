{
 "cells": [
  {
   "cell_type": "markdown",
   "metadata": {},
   "source": [
    "___\n",
    "\n",
    "<a href='https://www.udemy.com/user/joseportilla/'><img src='../Pierian_Data_Logo.png'/></a>\n",
    "___\n",
    "<center><em>Content Copyright by Pierian Data</em></center>"
   ]
  },
  {
   "cell_type": "markdown",
   "metadata": {},
   "source": [
    "# Milestone Project 2 - Blackjack Game\n",
    "In this milestone project you will be creating a Complete BlackJack Card Game in Python.\n",
    "\n",
    "Here are the requirements:\n",
    "\n",
    "* You need to create a simple text-based [BlackJack](https://en.wikipedia.org/wiki/Blackjack) game\n",
    "* The game needs to have one player versus an automated dealer.\n",
    "* The player can stand or hit.\n",
    "* The player must be able to pick their betting amount.\n",
    "* You need to keep track of the player's total money.\n",
    "* You need to alert the player of wins, losses, or busts, etc...\n",
    "\n",
    "And most importantly:\n",
    "\n",
    "* **You must use OOP and classes in some portion of your game. You can not just use functions in your game. Use classes to help you define the Deck and the Player's hand. There are many right ways to do this, so explore it well!**\n",
    "\n",
    "\n",
    "Feel free to expand this game. Try including multiple players. Try adding in Double-Down and card splits! Remember to you are free to use any resources you want and as always:\n",
    "\n",
    "# HAVE FUN!"
   ]
  },
  {
   "cell_type": "markdown",
   "metadata": {},
   "source": [
    "To play a hand of Blackjack the following steps must be followed:\r\n",
    "\r\n",
    "Create a deck of 52 cards\r\n",
    "Shuffle the deck\r\n",
    "Ask the Player for their bet\r\n",
    "Make sure that the Player's bet does not exceed their available chips\r\n",
    "Deal two cards to the Dealer and two cards to the Player\r\n",
    "Show only one of the Dealer's cards, the other remains hidden\r\n",
    "Show both of the Player's cards\r\n",
    "Ask the Player if they wish to Hit, and take another card\r\n",
    "If the Player's hand doesn't Bust (go over 21), ask if they'd like to Hit again.\r\n",
    "If a Player Stands, play the Dealer's hand. The dealer will always Hit until the Dealer's value meets or exceeds 17\r\n",
    "Determine the winner and adjust the Player's chips accordingly\r\n",
    "Ask the Player if they'd like to play again"
   ]
  },
  {
   "cell_type": "code",
   "execution_count": 4,
   "metadata": {},
   "outputs": [],
   "source": [
    "import random\n",
    "\n",
    "suits = ('Hearts', 'Diamonds', 'Spades', 'Clubs')\n",
    "ranks = ('Two', 'Three', 'Four', 'Five', 'Six', 'Seven', 'Eight', 'Nine', 'Ten', 'Jack', 'Queen', 'King', 'Ace')\n",
    "values = {'Two':2, 'Three': 3, 'Four': 4, 'Five': 5, 'Six': 6, 'Seven': 7, 'Eight': 8, 'Nine': 9, 'Ten': 10, 'Jack': 10, 'Queen': 10, 'King': 10, 'Ace': 11}"
   ]
  },
  {
   "cell_type": "code",
   "execution_count": 5,
   "metadata": {},
   "outputs": [],
   "source": [
    "#Card Class\n",
    "class Card():\n",
    "    def __init__(self, suit, rank):\n",
    "        self.suit = suit\n",
    "        self.rank = rank\n",
    "        self.values = values[rank]\n",
    "    def __str__(self):\n",
    "        return self.rank + ' of ' + self.suit\n",
    "\n",
    "#Deck Class\n",
    "class Deck():\n",
    "    def __init__(self):\n",
    "        self.all_cards = []\n",
    "        for suit in suits:\n",
    "            for rank in ranks:\n",
    "                self.all_cards.append(Card(suit, rank))\n",
    "    #Shuffle\n",
    "    def shuffle(self):\n",
    "        random.shuffle(self.all_cards)\n",
    "    #Deal\n",
    "    def deal_one(self):\n",
    "        return self.all_cards.pop()\n",
    "\n",
    "#Player Class\n",
    "class Player():\n",
    "    def __init__(self, name, chips):\n",
    "        self.name = name\n",
    "        self.all_cards = []\n",
    "        self.chips = chips\n",
    "    def add_cards(self, new_cards):\n",
    "        if type(new_cards) == type([]):\n",
    "            self.all_cards.extend(new_cards)\n",
    "        else:\n",
    "            self.all_cards.append(new_cards)\n",
    "    def remove_cards(self):\n",
    "        self.all_cards = []\n",
    "    def reveal_one(self):\n",
    "        print(self.all_cards[-1])\n",
    "    def reveal_all(self):\n",
    "        for i in range(len(self.all_cards)):\n",
    "            print(self.all_cards[i])\n",
    "    def update_chips(self, amount):\n",
    "        self.chips += amount\n",
    "    def total(self):\n",
    "        total = 0\n",
    "        for i in range(len(player.all_cards)):\n",
    "            total = total + self.all_cards[i].values\n",
    "        return total\n",
    "    def ace_check(self):\n",
    "        for i in range(len(self.all_cards)-1):\n",
    "            if type(self.all_cards[i].values) == type([]):\n",
    "                return True\n",
    "    def __str__(self):\n",
    "        return self.name + ' has ' + str(len(self.all_cards)) + ' cards and ' + str(self.chips) +' chips.'"
   ]
  },
  {
   "cell_type": "code",
   "execution_count": 6,
   "metadata": {},
   "outputs": [],
   "source": [
    "#Create player profile\n",
    "def player_profile():\n",
    "    name = ''\n",
    "    chips = 0\n",
    "    name = str(input('Please enter your name: '))\n",
    "    while True:\n",
    "        try:\n",
    "            chips = int(input('Please enter your number of chips: '))\n",
    "        except:\n",
    "            print('Please enter a valid number!')\n",
    "            continue\n",
    "        else:\n",
    "            break\n",
    "    player = Player(name, chips)\n",
    "    return player"
   ]
  },
  {
   "cell_type": "code",
   "execution_count": 7,
   "metadata": {},
   "outputs": [],
   "source": [
    "#Player bet\n",
    "def player_bet():\n",
    "    bet = 0\n",
    "    while True:\n",
    "        try:\n",
    "            bet = int(input('Make your bet: '))\n",
    "        except:\n",
    "            print('Please enter a valid number!')\n",
    "            continue\n",
    "        else:\n",
    "            #Check player bet\n",
    "            if bet > player.chips:\n",
    "                print('Insufficient chips!')\n",
    "                continue\n",
    "            else:\n",
    "                return bet"
   ]
  },
  {
   "cell_type": "code",
   "execution_count": 8,
   "metadata": {},
   "outputs": [],
   "source": [
    "#Hit and take another card\n",
    "def hit():\n",
    "    hit_or_stay = ''\n",
    "    while hit_or_stay.lower() not in ['hit', 'h', 'stay', 's']:\n",
    "        hit_or_stay = input('Do you want to hit or stay (Hit/Stay)? ')\n",
    "        if hit_or_stay.lower() in ['hit', 'h', 'stay', 's']:\n",
    "            if hit_or_stay.lower().startswith('h'):\n",
    "                print('One card has been added to your deck')\n",
    "                player.add_cards(new_deck.deal_one())\n",
    "                return True\n",
    "        else:\n",
    "            print(\"Sorry, I don't understand. Please try again!\")        \n",
    "#Bust check\n",
    "def bust_check(player):\n",
    "       return player.total() > 21 "
   ]
  },
  {
   "cell_type": "code",
   "execution_count": 9,
   "metadata": {},
   "outputs": [],
   "source": [
    "#Deal hits \n",
    "def dealer_check(dealer):\n",
    "    return dealer.total() >= 17\n",
    "    #17 check"
   ]
  },
  {
   "cell_type": "code",
   "execution_count": 10,
   "metadata": {},
   "outputs": [],
   "source": [
    "#Winner check\n",
    "def winner():\n",
    "    if dealer.total() > player.total():\n",
    "        print('You lost! Dealer won!')\n",
    "        player.update_chips(-bet)\n",
    "        print('You lost ' + str(bet) + ' chips. Your total number of chips is ' + str(player.chips))\n",
    "    elif dealer.total() < player.total():\n",
    "        print('You won! Dealer lost!')\n",
    "        player.update_chips(bet)\n",
    "        print('You earned ' + str(bet) + ' chips. Your total number of chips is ' + str(player.chips))\n",
    "    else:\n",
    "        print(\"It's a tie!\")\n",
    "    #Deduct chips"
   ]
  },
  {
   "cell_type": "code",
   "execution_count": 11,
   "metadata": {},
   "outputs": [],
   "source": [
    "#Ace check\n",
    "#def ace_check():\n",
    "    "
   ]
  },
  {
   "cell_type": "code",
   "execution_count": 20,
   "metadata": {},
   "outputs": [
    {
     "name": "stdout",
     "output_type": "stream",
     "text": [
      "Welcome to BlackJack!\n"
     ]
    },
    {
     "name": "stdin",
     "output_type": "stream",
     "text": [
      "Do you want to play (Yes/No)?  Yes\n",
      "Please enter your name:  nam\n",
      "Please enter your number of chips:  100\n"
     ]
    },
    {
     "name": "stdout",
     "output_type": "stream",
     "text": [
      "Let's start the game!\n",
      "You have 100 chips.\n"
     ]
    },
    {
     "name": "stdin",
     "output_type": "stream",
     "text": [
      "Make your bet:  10\n"
     ]
    },
    {
     "name": "stdout",
     "output_type": "stream",
     "text": [
      "Dealer has:\n",
      "Queen of Hearts\n",
      "You have:\n",
      "Jack of Diamonds\n",
      "Ace of Spades\n"
     ]
    },
    {
     "name": "stdin",
     "output_type": "stream",
     "text": [
      "Do you want to hit or stay (Hit/Stay)?  stay\n"
     ]
    },
    {
     "name": "stdout",
     "output_type": "stream",
     "text": [
      "You won! Dealer lost!\n",
      "You earned 10. Your total number of chips is 110\n"
     ]
    },
    {
     "name": "stdin",
     "output_type": "stream",
     "text": [
      "Do you want to try again (Yes/No)?  ahb\n"
     ]
    },
    {
     "name": "stdout",
     "output_type": "stream",
     "text": [
      "Sorry, I don't understand what you mean. Please try again.\n"
     ]
    },
    {
     "name": "stdin",
     "output_type": "stream",
     "text": [
      "Do you want to try again (Yes/No)?  yghs\n"
     ]
    },
    {
     "name": "stdout",
     "output_type": "stream",
     "text": [
      "Sorry, I don't understand what you mean. Please try again.\n"
     ]
    },
    {
     "name": "stdin",
     "output_type": "stream",
     "text": [
      "Do you want to try again (Yes/No)?  yes\n"
     ]
    },
    {
     "name": "stdout",
     "output_type": "stream",
     "text": [
      "Let's start the game!\n",
      "You have 110 chips.\n"
     ]
    },
    {
     "name": "stdin",
     "output_type": "stream",
     "text": [
      "Make your bet:  120\n"
     ]
    },
    {
     "name": "stdout",
     "output_type": "stream",
     "text": [
      "Insufficient chips!\n"
     ]
    },
    {
     "name": "stdin",
     "output_type": "stream",
     "text": [
      "Make your bet:  10\n"
     ]
    },
    {
     "name": "stdout",
     "output_type": "stream",
     "text": [
      "Dealer has:\n",
      "King of Spades\n",
      "You have:\n",
      "Three of Diamonds\n",
      "Six of Diamonds\n"
     ]
    },
    {
     "name": "stdin",
     "output_type": "stream",
     "text": [
      "Do you want to hit or stay (Hit/Stay)?  hit\n"
     ]
    },
    {
     "name": "stdout",
     "output_type": "stream",
     "text": [
      "One card has been added to your deck\n",
      "You have:\n",
      "Three of Diamonds\n",
      "Six of Diamonds\n",
      "Queen of Spades\n",
      "You lost! Dealer won!\n",
      "You lost 10. Your total number of chips is 100\n"
     ]
    },
    {
     "name": "stdin",
     "output_type": "stream",
     "text": [
      "Do you want to try again (Yes/No)?  no\n"
     ]
    },
    {
     "name": "stdout",
     "output_type": "stream",
     "text": [
      "Thank you for playing!\n"
     ]
    }
   ],
   "source": [
    "#Game Setup\n",
    "dealer = Player('Dealer', 0)\n",
    "new_deck = Deck()\n",
    "new_deck.shuffle()\n",
    "#Full game\n",
    "print('Welcome to BlackJack!')\n",
    "game_on = False\n",
    "play_yes_no = ''\n",
    "while play_yes_no.lower() not in ['yes', 'y', 'no', 'n']:\n",
    "    play_yes_no = input('Do you want to play (Yes/No)? ')\n",
    "    if play_yes_no.lower() in ['yes', 'y', 'no', 'n']: \n",
    "        if play_yes_no.lower().startswith('y'):\n",
    "            game_on = True\n",
    "            player = player_profile()\n",
    "        else:\n",
    "            print('Thank you!')\n",
    "    else:\n",
    "        print(\"Sorry, I don't understand what you mean.\")\n",
    "while game_on:\n",
    "    print(\"Let's start the game!\")\n",
    "    print('You have '+ str(player.chips) + ' chips.')\n",
    "    bet = player_bet()\n",
    "    for x in range(2):\n",
    "        player.add_cards(new_deck.deal_one())\n",
    "        dealer.add_cards(new_deck.deal_one())\n",
    "    print('Dealer has:')\n",
    "    dealer.reveal_one()\n",
    "    print('You have:')\n",
    "    player.reveal_all()\n",
    "    if hit():\n",
    "        print('You have:')\n",
    "        player.reveal_all()\n",
    "        if not bust_check(player):\n",
    "            dealer.add_cards(new_deck.deal_one())\n",
    "            winner()\n",
    "        else:\n",
    "            print('You busted! Dealer won!')\n",
    "            player.update_chips(-bet)\n",
    "            print('You lost ' + str(bet) + ' chips. Your total number of chips is ' + str(player.chips))\n",
    "    else:\n",
    "        dealer.add_cards(new_deck.deal_one())\n",
    "        if not dealer_check(dealer):\n",
    "            winner()\n",
    "        else:\n",
    "            print('Dealer busted! You won!')\n",
    "            player.update_chips(bet)\n",
    "            print('You earned' + str(bet) + ' chips. Your total number of chips is ' + str(player.chips))\n",
    "    replay = ''\n",
    "    while replay.lower() not in ['yes', 'y', 'no', 'n']:\n",
    "        replay = input('Do you want to try again (Yes/No)? ')\n",
    "        if replay.lower() in ['yes', 'y']:\n",
    "            game_on = True\n",
    "            player.remove_cards()\n",
    "            dealer.remove_cards()\n",
    "        elif replay.lower() in ['no', 'n']:\n",
    "            game_on = False\n",
    "            print('Thank you for playing!')\n",
    "        else:\n",
    "            print(\"Sorry, I don't understand what you mean. Please try again.\")\n",
    "            continue"
   ]
  },
  {
   "cell_type": "code",
   "execution_count": null,
   "metadata": {},
   "outputs": [],
   "source": [
    "dealer.reveal_all()"
   ]
  }
 ],
 "metadata": {
  "kernelspec": {
   "display_name": "Python 3 (ipykernel)",
   "language": "python",
   "name": "python3"
  },
  "language_info": {
   "codemirror_mode": {
    "name": "ipython",
    "version": 3
   },
   "file_extension": ".py",
   "mimetype": "text/x-python",
   "name": "python",
   "nbconvert_exporter": "python",
   "pygments_lexer": "ipython3",
   "version": "3.12.4"
  }
 },
 "nbformat": 4,
 "nbformat_minor": 4
}
