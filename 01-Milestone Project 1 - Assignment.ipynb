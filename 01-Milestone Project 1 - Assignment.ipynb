{
 "cells": [
  {
   "cell_type": "markdown",
   "metadata": {},
   "source": [
    "___\n",
    "\n",
    "<a href='https://www.udemy.com/user/joseportilla/'><img src='../Pierian_Data_Logo.png'/></a>\n",
    "___\n",
    "<center><em>Content Copyright by Pierian Data</em></center>"
   ]
  },
  {
   "cell_type": "markdown",
   "metadata": {},
   "source": [
    "# Milestone Project 1\n",
    "## Congratulations on making it to your first milestone!\n",
    "You've already learned a ton and are ready to work on a real project.\n",
    "\n",
    "Your assignment: Create a Tic Tac Toe game. You are free to use any IDE you like.\n",
    "\n",
    "Here are the requirements:\n",
    "\n",
    "* 2 players should be able to play the game (both sitting at the same computer)\n",
    "* The board should be printed out every time a player makes a move\n",
    "* You should be able to accept input of the player position and then place a symbol on the board\n",
    "\n",
    "Feel free to use Google to help you figure anything out (but don't just Google \"Tic Tac Toe in Python\" otherwise you won't learn anything!) Keep in mind that this project can take anywhere between several hours to several days.\n",
    "\n",
    "There are 4 Jupyter Notebooks related to this assignment:\n",
    "\n",
    "* This Assignment Notebook\n",
    "* A \"Walkthrough Steps Workbook\" Notebook\n",
    "* A \"Complete Walkthrough Solution\" Notebook\n",
    "* An \"Advanced Solution\" Notebook\n",
    "\n",
    "I encourage you to just try to start the project on your own without referencing any of the notebooks. If you get stuck, check out the next lecture which is a text lecture with helpful hints and steps. If you're still stuck after that, then check out the Walkthrough Steps Workbook, which breaks up the project in steps for you to solve. Still stuck? Then check out the Complete Walkthrough Solution video for more help on approaching the project!"
   ]
  },
  {
   "cell_type": "markdown",
   "metadata": {},
   "source": [
    "There are parts of this that will be a struggle...and that is good! I have complete faith that if you have made it this far through the course you have all the tools and knowledge to tackle this project. Remember, it's totally open book, so take your time, do a little research, and remember:\n",
    "\n",
    "## HAVE FUN!"
   ]
  },
  {
   "cell_type": "markdown",
   "metadata": {},
   "source": [
    "def position():\n",
    "    choice == 'wrong'\n",
    "    range_check == False\n",
    "    while choice.isdigit() == False or range_check  == False:\n",
    "        choice = input('Enter a number (1-3): ')\n",
    "        if choice.isdigit() == False:\n",
    "            print('Sorry, please enter a valid number')\n",
    "        if choice "
   ]
  },
  {
   "cell_type": "markdown",
   "metadata": {},
   "source": [
    "Tic tac toe game:\n",
    "Player 1 = o\n",
    "Player 2 = x\n",
    "0: Game board shows up\n",
    "1: Player 1 enters position\n",
    "2: Check if that entry makes a line\n",
    "3: Player 2 enters position\n",
    "4: Check if that entry makes a line\n",
    "5: Each player takes turn enter position until a line is formed -> Winner"
   ]
  },
  {
   "cell_type": "code",
   "execution_count": 29,
   "metadata": {},
   "outputs": [],
   "source": [
    "game_board = {'row1':[' ', ' ', ' '], 'row2':[' ', ' ', ' '], 'row3':[' ', ' ', ' ']}\n",
    "def display_board():\n",
    "    print('Game Board\\n', game_board['row1'],'\\n', game_board['row2'], '\\n', game_board['row3'])\n",
    "def check_row():\n",
    "    for row in game_board:\n",
    "        if game_board[row][0] == game_board[row][1] == game_board[row][2]=='x':\n",
    "            return 'Player 1 wins!'\n",
    "        elif game_board[row][0] == game_board[row][1] == game_board[row][2]=='o':\n",
    "            return 'Player 2 wins!'\n",
    "        else:\n",
    "            return False\n",
    "def check_column():\n",
    "    for i in range(3):\n",
    "        if game_board['row1'][i] == game_board['row2'][i] == game_board['row3'][i]=='x':\n",
    "            return 'Player 1 wins!'\n",
    "        elif game_board['row1'][i] == game_board['row2'][i] == game_board['row3'][i]=='o':\n",
    "            return 'Player 2 wins!'\n",
    "        else:\n",
    "            return False\n",
    "def check_diagonal():\n",
    "    if game_board['row1'][0] == game_board['row2'][1] == game_board['row3'][2]=='x' or game_board['row1'][2] == game_board['row2'][1] == game_board['row3'][0]=='x':\n",
    "        return 'Player 1 wins!'\n",
    "    elif game_board['row1'][0] == game_board['row2'][1] == game_board['row3'][2]=='o' or game_board['row1'][2] == game_board['row2'][1] == game_board['row3'][0]=='o':\n",
    "        return 'Player 2 wins!'\n",
    "    else:\n",
    "        return False\n",
    "def position(): \n",
    "    position = {'row': 0, 'column': 0}\n",
    "    x = 'wrong'\n",
    "    y = 'wrong'\n",
    "    x_check = False\n",
    "    y_check = False\n",
    "    while x.isdigit() == False or x_check == False:\n",
    "        x = input('Please choose a row (1-3): ')\n",
    "        if x.isdigit() == False:\n",
    "            print('Please enter a valid number (1-3)!')\n",
    "        else:\n",
    "            if int(x) in range(3):\n",
    "                position['row'] = x\n",
    "                break\n",
    "            else:\n",
    "                print('Please enter a valid number (1-3)!')\n",
    "    while y.isdigit() == False or y_check == False:\n",
    "        y = input('Please choose a column (1-3): ')\n",
    "        if y.isdigit() == False:\n",
    "            print('Please enter a valid number (1-3)!')\n",
    "        else:\n",
    "            if int(y) in range(3):\n",
    "                position['column'] = y\n",
    "                break\n",
    "            else:\n",
    "                print('Please enter a valid number (1-3)!')\n",
    "    return position\n",
    "def player_key():\n",
    "    player_key = {'Player 1': '', 'Player 2': ''}\n",
    "    player_1 = 'wrong'\n",
    "    player_2 = 'wrong'\n",
    "    while player_1 not in ['X', 'O']:\n",
    "        player_1 = input('Please enter Player 1 key (X or O): ')\n",
    "        if player_1 not in ['X', 'O']:\n",
    "            print('Please enter valid key!')\n",
    "        else:\n",
    "            player_key['Player 1'] = player_1\n",
    "            break\n",
    "    while player_2 not in ['X', 'O']:\n",
    "        player_2 = input('Please enter Player 2 key (X or O): ')\n",
    "        if player_2 not in ['X', 'O']:\n",
    "            print('Please enter valid key!')\n",
    "        else:\n",
    "            player_key['Player 2'] = player_2\n",
    "            break\n",
    "    return player_key"
   ]
  },
  {
   "cell_type": "code",
   "execution_count": 33,
   "metadata": {},
   "outputs": [],
   "source": [
    "player\n",
    "def start():\n",
    "    print('Welcome to Tic Tac Toe!')\n",
    "    player_key()\n",
    "    print('Here is your game board:')\n",
    "    game_board = {'row1':[' ', ' ', ' '], 'row2':[' ', ' ', ' '], 'row3':[' ', ' ', ' ']}\n",
    "    display_board()\n",
    "def take_turn():\n",
    "    "
   ]
  },
  {
   "cell_type": "code",
   "execution_count": null,
   "metadata": {},
   "outputs": [],
   "source": [
    "game_board_eg = {'row1':[' ', ' ', ' '], 'row2':[' ', ' ', ' '], 'row3':[' ', ' ', ' ']}"
   ]
  },
  {
   "cell_type": "code",
   "execution_count": null,
   "metadata": {},
   "outputs": [],
   "source": []
  }
 ],
 "metadata": {
  "kernelspec": {
   "display_name": "Python 3 (ipykernel)",
   "language": "python",
   "name": "python3"
  },
  "language_info": {
   "codemirror_mode": {
    "name": "ipython",
    "version": 3
   },
   "file_extension": ".py",
   "mimetype": "text/x-python",
   "name": "python",
   "nbconvert_exporter": "python",
   "pygments_lexer": "ipython3",
   "version": "3.12.4"
  }
 },
 "nbformat": 4,
 "nbformat_minor": 4
}
